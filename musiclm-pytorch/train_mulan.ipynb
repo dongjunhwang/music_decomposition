{
 "cells": [
  {
   "cell_type": "code",
   "execution_count": 1,
   "metadata": {},
   "outputs": [],
   "source": [
    "import os\n",
    "\n",
    "# Set the CUDA_VISIBLE_DEVICES environment variable to specify which GPU to use\n",
    "os.environ[\"CUDA_VISIBLE_DEVICES\"] = \"1\""
   ]
  },
  {
   "cell_type": "code",
   "execution_count": 2,
   "metadata": {},
   "outputs": [
    {
     "name": "stderr",
     "output_type": "stream",
     "text": [
      "2024-06-02 15:05:36.389693: I tensorflow/core/util/port.cc:110] oneDNN custom operations are on. You may see slightly different numerical results due to floating-point round-off errors from different computation orders. To turn them off, set the environment variable `TF_ENABLE_ONEDNN_OPTS=0`.\n",
      "2024-06-02 15:05:36.391351: I tensorflow/tsl/cuda/cudart_stub.cc:28] Could not find cuda drivers on your machine, GPU will not be used.\n",
      "2024-06-02 15:05:36.427928: I tensorflow/core/platform/cpu_feature_guard.cc:182] This TensorFlow binary is optimized to use available CPU instructions in performance-critical operations.\n",
      "To enable the following instructions: AVX2 AVX512F AVX512_VNNI FMA, in other operations, rebuild TensorFlow with the appropriate compiler flags.\n",
      "2024-06-02 15:05:37.393900: W tensorflow/compiler/tf2tensorrt/utils/py_utils.cc:38] TF-TRT Warning: Could not find TensorRT\n"
     ]
    }
   ],
   "source": [
    "from musiclm_pytorch import MuLaNTrainer, MuLaN\n",
    "\n",
    "import pickle\n",
    "import torch\n",
    "\n",
    "from torch.utils.data import Dataset\n",
    "\n",
    "import torch\n",
    "from musiclm_pytorch import MuLaN, AudioSpectrogramTransformer, TextTransformer"
   ]
  },
  {
   "cell_type": "code",
   "execution_count": 3,
   "metadata": {},
   "outputs": [],
   "source": [
    "audio_transformer = AudioSpectrogramTransformer(\n",
    "    dim = 512,\n",
    "    depth = 6,\n",
    "    heads = 8,\n",
    "    dim_head = 64,\n",
    "    spec_n_fft = 256,\n",
    "    spec_win_length = 24,\n",
    "    spec_aug_stretch_factor = 0.8\n",
    ")\n",
    "\n",
    "text_transformer = TextTransformer(\n",
    "    dim = 512,\n",
    "    depth = 6,\n",
    "    heads = 8,\n",
    "    dim_head = 64\n",
    ")\n",
    "\n",
    "mulan = MuLaN(\n",
    "    audio_transformer = audio_transformer,\n",
    "    text_transformer = text_transformer\n",
    ")"
   ]
  },
  {
   "cell_type": "code",
   "execution_count": 4,
   "metadata": {},
   "outputs": [],
   "source": [
    "\n",
    "from torch.utils.data import Dataset\n",
    "from pathlib import Path\n",
    "\n",
    "\n",
    "class MusicDataset(Dataset):\n",
    "    def __init__(self, musiccaps_dataset_pkl_path: Path, sdd_dataset_pkl_path: Path):\n",
    "                \n",
    "        self.musiccaps_dataset = pickle.load(open(musiccaps_dataset_pkl_path, 'rb'))\n",
    "        self.num_musiccaps = len(self.musiccaps_dataset)\n",
    "\n",
    "        self.sdd_dataset = pickle.load(open(sdd_dataset_pkl_path, 'rb'))\n",
    "        self.num_sdd = len(self.sdd_dataset)\n",
    "     \n",
    "        self.num_data = self.num_musiccaps + self.num_sdd\n",
    "        \n",
    "        self.wav_duration = 16000 * 10 # 10 seconds\n",
    "        \n",
    "        \n",
    "    def __len__(self):\n",
    "        return self.num_data\n",
    "    \n",
    "    def __getitem__(self, idx):\n",
    "        if idx < self.num_musiccaps:\n",
    "            wav = self.musiccaps_dataset[idx][0]\n",
    "            cap = self.musiccaps_dataset[idx][1]\n",
    "        \n",
    "        else:\n",
    "            # get the sdd_dataset_index\n",
    "            idx = idx - self.num_musiccaps\n",
    "            real_wav_len = self.sdd_dataset[idx][2]\n",
    "            \n",
    "            # randomly select a starting point\n",
    "            start_point = torch.randint(0, real_wav_len - self.wav_duration, (1,)).item()\n",
    "            wav = self.sdd_dataset[idx][0][start_point:start_point+self.wav_duration]\n",
    "            cap = self.sdd_dataset[idx][1]\n",
    "            \n",
    "        return wav, cap\n",
    "    \n",
    "    \n",
    "# training_data = MuLanDataset(\n",
    "#     txt_pickle_path=Path('pkls/txts.pkl'),\n",
    "#     wav_pickle_path=Path('pkls/wavs.pkl'))"
   ]
  },
  {
   "cell_type": "code",
   "execution_count": 5,
   "metadata": {},
   "outputs": [],
   "source": [
    "# requires ~ 45GB of DRAM\n",
    "training_data = MusicDataset(\n",
    "    musiccaps_dataset_pkl_path=Path('pkls/musiccaps_dataset.pkl'),\n",
    "    sdd_dataset_pkl_path=Path('pkls/sdd_dataset.pkl')\n",
    ")"
   ]
  },
  {
   "cell_type": "code",
   "execution_count": 6,
   "metadata": {},
   "outputs": [
    {
     "name": "stdout",
     "output_type": "stream",
     "text": [
      "5480\n",
      "torch.Size([160000]) Rainy piano vibe well mix and spatially pan vocal\n",
      "torch.Size([160000]) this record contain break and shoot sound . there be also a lot of deep rumble noise . the whole audio be pan to the right side of the speaker . this be an amateur record and of poor audio quality . this audio may be play in a video game .\n"
     ]
    }
   ],
   "source": [
    "# test MusicDataset\n",
    "num_musiccap_data = training_data.num_musiccaps\n",
    "print(num_musiccap_data)\n",
    "wav, txt = training_data[num_musiccap_data + 10]\n",
    "print(wav.shape, txt)\n",
    "\n",
    "wav, txt = training_data[10]\n",
    "print(wav.shape, txt)"
   ]
  },
  {
   "cell_type": "code",
   "execution_count": 7,
   "metadata": {},
   "outputs": [
    {
     "name": "stdout",
     "output_type": "stream",
     "text": [
      "6186\n"
     ]
    }
   ],
   "source": [
    "print(training_data.num_data)"
   ]
  },
  {
   "cell_type": "markdown",
   "metadata": {},
   "source": [
    "### Train Mulan"
   ]
  },
  {
   "cell_type": "code",
   "execution_count": 8,
   "metadata": {},
   "outputs": [
    {
     "name": "stdout",
     "output_type": "stream",
     "text": [
      "training with dataset of 5876 samples and validating with randomly splitted 310 samples\n"
     ]
    }
   ],
   "source": [
    "mulan_trainer = MuLaNTrainer(mulan=mulan, dataset=training_data, num_train_steps=2000, batch_size=24, grad_accum_every=24)"
   ]
  },
  {
   "cell_type": "markdown",
   "metadata": {},
   "source": [
    "### Load saved mulan model"
   ]
  },
  {
   "cell_type": "code",
   "execution_count": null,
   "metadata": {},
   "outputs": [],
   "source": [
    "mulan_trainer = MuLaNTrainer(mulan=mulan, dataset=training_data, num_train_steps=1000, batch_size=2, grad_accum_every=16)\n",
    "min_loss_path = '/root/musiclm-pytorch/results/mulan_min_loss.pt'\n",
    "mulan_trainer.load(min_loss_path)"
   ]
  },
  {
   "cell_type": "markdown",
   "metadata": {},
   "source": []
  },
  {
   "cell_type": "markdown",
   "metadata": {},
   "source": [
    "### Get most sim music for the given text description"
   ]
  },
  {
   "cell_type": "code",
   "execution_count": null,
   "metadata": {},
   "outputs": [],
   "source": [
    "from tqdm import tqdm\n",
    "\n",
    "special_characters = {'&', ',', '\"', \"'\", '/', ';', '“', '(', '‘', '’', '.', ')', '-', '\\n', ':'}\n",
    "def replace_special_characters_with_space(text):\n",
    "    for char in special_characters:\n",
    "        text = text.replace(char, ' ')\n",
    "    return text\n",
    "# input\n",
    "query_text = ['This music features a classic piano solo, showcasing intricate melodies and expressive harmonies. The timeless elegance and nuanced performance create an immersive and captivating listening experience.']\n",
    "\n",
    "query_text = [replace_special_characters_with_space(text) for text in query_text]\n",
    "\n",
    "\n",
    "# get the latent representation of the query text\n",
    "query_text_latent = mulan_trainer.mulan.get_text_latents(raw_texts=query_text)\n",
    "\n",
    "# get the audio representation of the query text, highest similarity, iterate over all mulan dataset\n",
    "max_similarity = 0\n",
    "max_similarity_idx = 0\n",
    "idx_simliarity_text_list = []\n",
    "for idx in tqdm(range(len(training_data))):\n",
    "    wav, txt = training_data[idx]\n",
    "    # append fake batch\n",
    "    wav = torch.unsqueeze(wav, 0).to(mulan_trainer.device)\n",
    "    audio_latent = mulan_trainer.mulan.get_audio_latents(wav)\n",
    "    \n",
    "    # compute cosine similarity between two latents\n",
    "    similarity = torch.nn.functional.cosine_similarity(query_text_latent, audio_latent).detach().cpu().numpy()\n",
    "    \n",
    "    idx_simliarity_text_list.append((idx, similarity, txt))\n",
    "    \n",
    "    if similarity > max_similarity:\n",
    "        max_similarity = similarity\n",
    "        max_similarity_idx = idx\n",
    "        \n"
   ]
  },
  {
   "cell_type": "code",
   "execution_count": null,
   "metadata": {},
   "outputs": [],
   "source": [
    "import IPython.display as ipd\n",
    "from IPython.display import display\n",
    "\n",
    "# sort the similarity_text list by similarity (higest to lowest)\n",
    "print(query_text)\n",
    "idx_simliarity_text_list.sort(key=lambda x: x[1], reverse=True)\n",
    "for sim_text in idx_simliarity_text_list[:10]:\n",
    "    idx, sim, txt = sim_text\n",
    "    print(f'{idx} {sim} - {txt}')\n",
    "    # display(ipd.Audio(training_data[idx][0], rate=16000))"
   ]
  },
  {
   "cell_type": "code",
   "execution_count": null,
   "metadata": {},
   "outputs": [],
   "source": [
    "# show the best match\n",
    "print(training_data[max_similarity_idx][1])\n",
    "# play the audio of the best match\n",
    "import IPython.display as ipd\n",
    "ipd.Audio(training_data[max_similarity_idx][0], rate=16000)"
   ]
  },
  {
   "cell_type": "markdown",
   "metadata": {},
   "source": [
    "### Text Encoder"
   ]
  },
  {
   "cell_type": "code",
   "execution_count": null,
   "metadata": {},
   "outputs": [],
   "source": [
    "\n",
    "'''\n",
    "text1 = ['his voice.  song']\n",
    "text2 = ['his voice   \\n  song']\n",
    "text3 = ['his voice song']\n",
    "\n",
    "embed1 = mulan.get_text_latents(raw_texts=text1)\n",
    "print(embed1.shape)\n",
    "embed2 = mulan.get_text_latents(raw_texts=text2)\n",
    "print(embed2.shape)\n",
    "embed3 = mulan.get_text_latents(raw_texts=text3)\n",
    "\n",
    "print(embed1.sum())\n",
    "print(embed2.sum())\n",
    "print(embed3.sum())\n",
    "'''\n"
   ]
  },
  {
   "cell_type": "code",
   "execution_count": null,
   "metadata": {},
   "outputs": [],
   "source": []
  }
 ],
 "metadata": {
  "kernelspec": {
   "display_name": "base",
   "language": "python",
   "name": "python3"
  },
  "language_info": {
   "codemirror_mode": {
    "name": "ipython",
    "version": 3
   },
   "file_extension": ".py",
   "mimetype": "text/x-python",
   "name": "python",
   "nbconvert_exporter": "python",
   "pygments_lexer": "ipython3",
   "version": "3.1.-1"
  }
 },
 "nbformat": 4,
 "nbformat_minor": 2
}
